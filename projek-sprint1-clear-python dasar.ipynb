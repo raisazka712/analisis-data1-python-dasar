{
  "cells": [
    {
      "cell_type": "markdown",
      "metadata": {
        "id": "E0vqbgi9ay0H"
      },
      "source": [
        "# Y.Music"
      ]
    },
    {
      "cell_type": "markdown",
      "metadata": {
        "id": "fhq_eyov_Zcs"
      },
      "source": [
        "# Konten <a id='back'></a>\n",
        "\n",
        "* [Pendahuluan](#intro)\n",
        "* [Tahap 1. Ikhtisar Data](#data_review)\n",
        "    * [Kesimpulan](#data_review_conclusions)\n",
        "* [Tahap 2. Pra-pemrosesan data](#data_preprocessing)\n",
        "    * [2.1 Gaya Penulisan Judul](#header_style)\n",
        "    * [2.2 Nilai-Nilai yang Hilang](#missing_values)\n",
        "    * [2.3 Duplikat](#duplicates)\n",
        "    * [2.4 Kesimpulan](#data_preprocessing_conclusions)\n",
        "* [Tahap 3. Pengujian Hipotesis](#hypotheses)\n",
        "    * [3.1 Hipotesis 1: Aktivitas pengguna di kedua kota](#activity)\n",
        "    * [3.2 Hipotesis 2: Preferensi musik pada hari Senin dan Jumat](#week)\n",
        "    * [3.3 Hipotesis 3: Preferensi genre di kota Springfield dan Shelbyville](#genre)\n",
        "* [Temuan](#end)"
      ]
    },
    {
      "cell_type": "markdown",
      "metadata": {
        "id": "VUC88oWjTJw2"
      },
      "source": [
        "## Pendahuluan <a id='intro'></a>\n",
        "Setiap kali kita melakukan analisis, kita perlu merumuskan beberapa hipotesis yang perlu kita uji lebih lanjut. Terkadang, pengujian yang kita lakukan membawa kita untuk menerima hipotesis tersebut. Namun di lain waktu, kita juga perlu menolaknya. Untuk membuat keputusan yang tepat dalam bisnis, kita harus memahami apakah asumsi yang kita buat sudah tepat atau belum.\n",
        "\n",
        "Dalam proyek kali ini, kamu akan membandingkan preferensi musik dari pendengar di kota Springfield dan Shelbyville. Kamu akan meninjau data sungguhan dari Y.Music untuk menguji beberapa hipotesis di bawah ini dan membandingkan perilaku pengguna pada kedua kota.\n",
        "\n",
        "### Tujuan: \n",
        "Menguji tiga hipotesis:\n",
        "1. Aktivitas pengguna berbeda-beda tergantung pada hari dan kotanya.\n",
        "2. Pada hari Senin pagi, penduduk Springfield dan Shelbyville mendengarkan genre yang berbeda. Hal ini juga berlaku untuk hari Jumat malam.\n",
        "3. Pendengar di kota Springfield dan Shelbyville memiliki preferensi yang berbeda. Di Springfield, para pengguna lebih suka musik pop, sementara di Shelbyville musik rap memiliki lebih banyak penggemar.\n",
        "\n",
        "### Tahapan\n",
        "Data terkait perilaku pengguna disimpan dalam file `/datasets/music_project_en.csv`. Tidak ada informasi terkait kualitas data tersebut, karena itu kamu perlu memeriksanya terlebih dahulu sebelum menguji hipotesis.\n",
        "\n",
        "Pertama-tama, kamu akan mengevaluasi kualitas data dan melihat apakah masalahnya signifikan. Kemudian, selama pra-pemrosesan data, kamu akan mencoba mengatasi masalah yang paling serius.\n",
        " \n",
        "Proyek ini terdiri dari tiga tahap:\n",
        " 1. Tinjauan data\n",
        " 2. Pra-pemrosesan data\n",
        " 3. Pengujian hipotesis\n",
        "\n",
        " \n",
        "[Kembali ke Konten](#back)"
      ]
    },
    {
      "cell_type": "markdown",
      "metadata": {
        "id": "57eAOGIz_Zcs"
      },
      "source": [
        "Kamu akan membutuhkan library `Pandas`, oleh karena itu silakan mengimpornya."
      ]
    },
    {
      "cell_type": "code",
      "execution_count": 1,
      "metadata": {
        "id": "AXN7PHPN_Zcs"
      },
      "outputs": [],
      "source": [
        "# mengimpor Pandas\n",
        "import pandas as pd"
      ]
    },
    {
      "cell_type": "markdown",
      "metadata": {
        "id": "SG23P8tt_Zcs"
      },
      "source": [
        "Baca file `music_project_en.csv` dari folder `/datasets/` lalu simpan file tersebut di variabel `df`:"
      ]
    },
    {
      "cell_type": "code",
      "execution_count": 2,
      "metadata": {
        "id": "fFVu7vqh_Zct"
      },
      "outputs": [
        {
          "data": {
            "text/html": [
              "<div>\n",
              "<style scoped>\n",
              "    .dataframe tbody tr th:only-of-type {\n",
              "        vertical-align: middle;\n",
              "    }\n",
              "\n",
              "    .dataframe tbody tr th {\n",
              "        vertical-align: top;\n",
              "    }\n",
              "\n",
              "    .dataframe thead th {\n",
              "        text-align: right;\n",
              "    }\n",
              "</style>\n",
              "<table border=\"1\" class=\"dataframe\">\n",
              "  <thead>\n",
              "    <tr style=\"text-align: right;\">\n",
              "      <th></th>\n",
              "      <th>userID</th>\n",
              "      <th>Track</th>\n",
              "      <th>artist</th>\n",
              "      <th>genre</th>\n",
              "      <th>City</th>\n",
              "      <th>time</th>\n",
              "      <th>Day</th>\n",
              "    </tr>\n",
              "  </thead>\n",
              "  <tbody>\n",
              "    <tr>\n",
              "      <th>count</th>\n",
              "      <td>65079</td>\n",
              "      <td>63736</td>\n",
              "      <td>57512</td>\n",
              "      <td>63881</td>\n",
              "      <td>65079</td>\n",
              "      <td>65079</td>\n",
              "      <td>65079</td>\n",
              "    </tr>\n",
              "    <tr>\n",
              "      <th>unique</th>\n",
              "      <td>41748</td>\n",
              "      <td>39666</td>\n",
              "      <td>37806</td>\n",
              "      <td>268</td>\n",
              "      <td>2</td>\n",
              "      <td>20392</td>\n",
              "      <td>3</td>\n",
              "    </tr>\n",
              "    <tr>\n",
              "      <th>top</th>\n",
              "      <td>A8AE9169</td>\n",
              "      <td>Brand</td>\n",
              "      <td>Kartvelli</td>\n",
              "      <td>pop</td>\n",
              "      <td>Springfield</td>\n",
              "      <td>08:14:07</td>\n",
              "      <td>Friday</td>\n",
              "    </tr>\n",
              "    <tr>\n",
              "      <th>freq</th>\n",
              "      <td>76</td>\n",
              "      <td>136</td>\n",
              "      <td>136</td>\n",
              "      <td>8850</td>\n",
              "      <td>45360</td>\n",
              "      <td>14</td>\n",
              "      <td>23149</td>\n",
              "    </tr>\n",
              "  </tbody>\n",
              "</table>\n",
              "</div>"
            ],
            "text/plain": [
              "          userID  Track     artist  genre       City        time     Day\n",
              "count      65079  63736      57512  63881        65079     65079   65079\n",
              "unique     41748  39666      37806    268            2     20392       3\n",
              "top     A8AE9169  Brand  Kartvelli    pop  Springfield  08:14:07  Friday\n",
              "freq          76    136        136   8850        45360        14   23149"
            ]
          },
          "execution_count": 2,
          "metadata": {},
          "output_type": "execute_result"
        }
      ],
      "source": [
        "# membaca file dan menyimpannya ke variabel df\n",
        "df = pd.read_csv('/datasets/music_project_en.csv')\n",
        "df.describe()"
      ]
    },
    {
      "cell_type": "markdown",
      "metadata": {
        "id": "rDoOMd3uTqnZ"
      },
      "source": [
        "Tampilkan 10 baris pertama tabel:"
      ]
    },
    {
      "cell_type": "code",
      "execution_count": 3,
      "metadata": {
        "id": "oWTVX3gW_Zct"
      },
      "outputs": [
        {
          "data": {
            "text/html": [
              "<div>\n",
              "<style scoped>\n",
              "    .dataframe tbody tr th:only-of-type {\n",
              "        vertical-align: middle;\n",
              "    }\n",
              "\n",
              "    .dataframe tbody tr th {\n",
              "        vertical-align: top;\n",
              "    }\n",
              "\n",
              "    .dataframe thead th {\n",
              "        text-align: right;\n",
              "    }\n",
              "</style>\n",
              "<table border=\"1\" class=\"dataframe\">\n",
              "  <thead>\n",
              "    <tr style=\"text-align: right;\">\n",
              "      <th></th>\n",
              "      <th>userID</th>\n",
              "      <th>Track</th>\n",
              "      <th>artist</th>\n",
              "      <th>genre</th>\n",
              "      <th>City</th>\n",
              "      <th>time</th>\n",
              "      <th>Day</th>\n",
              "    </tr>\n",
              "  </thead>\n",
              "  <tbody>\n",
              "    <tr>\n",
              "      <th>0</th>\n",
              "      <td>FFB692EC</td>\n",
              "      <td>Kamigata To Boots</td>\n",
              "      <td>The Mass Missile</td>\n",
              "      <td>rock</td>\n",
              "      <td>Shelbyville</td>\n",
              "      <td>20:28:33</td>\n",
              "      <td>Wednesday</td>\n",
              "    </tr>\n",
              "    <tr>\n",
              "      <th>1</th>\n",
              "      <td>55204538</td>\n",
              "      <td>Delayed Because of Accident</td>\n",
              "      <td>Andreas Rönnberg</td>\n",
              "      <td>rock</td>\n",
              "      <td>Springfield</td>\n",
              "      <td>14:07:09</td>\n",
              "      <td>Friday</td>\n",
              "    </tr>\n",
              "    <tr>\n",
              "      <th>2</th>\n",
              "      <td>20EC38</td>\n",
              "      <td>Funiculì funiculà</td>\n",
              "      <td>Mario Lanza</td>\n",
              "      <td>pop</td>\n",
              "      <td>Shelbyville</td>\n",
              "      <td>20:58:07</td>\n",
              "      <td>Wednesday</td>\n",
              "    </tr>\n",
              "    <tr>\n",
              "      <th>3</th>\n",
              "      <td>A3DD03C9</td>\n",
              "      <td>Dragons in the Sunset</td>\n",
              "      <td>Fire + Ice</td>\n",
              "      <td>folk</td>\n",
              "      <td>Shelbyville</td>\n",
              "      <td>08:37:09</td>\n",
              "      <td>Monday</td>\n",
              "    </tr>\n",
              "    <tr>\n",
              "      <th>4</th>\n",
              "      <td>E2DC1FAE</td>\n",
              "      <td>Soul People</td>\n",
              "      <td>Space Echo</td>\n",
              "      <td>dance</td>\n",
              "      <td>Springfield</td>\n",
              "      <td>08:34:34</td>\n",
              "      <td>Monday</td>\n",
              "    </tr>\n",
              "    <tr>\n",
              "      <th>...</th>\n",
              "      <td>...</td>\n",
              "      <td>...</td>\n",
              "      <td>...</td>\n",
              "      <td>...</td>\n",
              "      <td>...</td>\n",
              "      <td>...</td>\n",
              "      <td>...</td>\n",
              "    </tr>\n",
              "    <tr>\n",
              "      <th>65074</th>\n",
              "      <td>729CBB09</td>\n",
              "      <td>My Name</td>\n",
              "      <td>McLean</td>\n",
              "      <td>rnb</td>\n",
              "      <td>Springfield</td>\n",
              "      <td>13:32:28</td>\n",
              "      <td>Wednesday</td>\n",
              "    </tr>\n",
              "    <tr>\n",
              "      <th>65075</th>\n",
              "      <td>D08D4A55</td>\n",
              "      <td>Maybe One Day (feat. Black Spade)</td>\n",
              "      <td>Blu &amp; Exile</td>\n",
              "      <td>hip</td>\n",
              "      <td>Shelbyville</td>\n",
              "      <td>10:00:00</td>\n",
              "      <td>Monday</td>\n",
              "    </tr>\n",
              "    <tr>\n",
              "      <th>65076</th>\n",
              "      <td>C5E3A0D5</td>\n",
              "      <td>Jalopiina</td>\n",
              "      <td>NaN</td>\n",
              "      <td>industrial</td>\n",
              "      <td>Springfield</td>\n",
              "      <td>20:09:26</td>\n",
              "      <td>Friday</td>\n",
              "    </tr>\n",
              "    <tr>\n",
              "      <th>65077</th>\n",
              "      <td>321D0506</td>\n",
              "      <td>Freight Train</td>\n",
              "      <td>Chas McDevitt</td>\n",
              "      <td>rock</td>\n",
              "      <td>Springfield</td>\n",
              "      <td>21:43:59</td>\n",
              "      <td>Friday</td>\n",
              "    </tr>\n",
              "    <tr>\n",
              "      <th>65078</th>\n",
              "      <td>3A64EF84</td>\n",
              "      <td>Tell Me Sweet Little Lies</td>\n",
              "      <td>Monica Lopez</td>\n",
              "      <td>country</td>\n",
              "      <td>Springfield</td>\n",
              "      <td>21:59:46</td>\n",
              "      <td>Friday</td>\n",
              "    </tr>\n",
              "  </tbody>\n",
              "</table>\n",
              "<p>65079 rows × 7 columns</p>\n",
              "</div>"
            ],
            "text/plain": [
              "         userID                              Track            artist  \\\n",
              "0      FFB692EC                  Kamigata To Boots  The Mass Missile   \n",
              "1      55204538        Delayed Because of Accident  Andreas Rönnberg   \n",
              "2        20EC38                  Funiculì funiculà       Mario Lanza   \n",
              "3      A3DD03C9              Dragons in the Sunset        Fire + Ice   \n",
              "4      E2DC1FAE                        Soul People        Space Echo   \n",
              "...         ...                                ...               ...   \n",
              "65074  729CBB09                            My Name            McLean   \n",
              "65075  D08D4A55  Maybe One Day (feat. Black Spade)       Blu & Exile   \n",
              "65076  C5E3A0D5                          Jalopiina               NaN   \n",
              "65077  321D0506                      Freight Train     Chas McDevitt   \n",
              "65078  3A64EF84          Tell Me Sweet Little Lies      Monica Lopez   \n",
              "\n",
              "            genre       City        time        Day  \n",
              "0            rock  Shelbyville  20:28:33  Wednesday  \n",
              "1            rock  Springfield  14:07:09     Friday  \n",
              "2             pop  Shelbyville  20:58:07  Wednesday  \n",
              "3            folk  Shelbyville  08:37:09     Monday  \n",
              "4           dance  Springfield  08:34:34     Monday  \n",
              "...           ...          ...       ...        ...  \n",
              "65074         rnb  Springfield  13:32:28  Wednesday  \n",
              "65075         hip  Shelbyville  10:00:00     Monday  \n",
              "65076  industrial  Springfield  20:09:26     Friday  \n",
              "65077        rock  Springfield  21:43:59     Friday  \n",
              "65078     country  Springfield  21:59:46     Friday  \n",
              "\n",
              "[65079 rows x 7 columns]"
            ]
          },
          "execution_count": 3,
          "metadata": {},
          "output_type": "execute_result"
        }
      ],
      "source": [
        "# memperoleh 10 baris pertama dari tabel df\n",
        "df"
      ]
    },
    {
      "cell_type": "markdown",
      "metadata": {
        "id": "EO73Kwic_Zct"
      },
      "source": [
        "Dapatkan informasi umum tentang tabel dengan satu perintah:"
      ]
    },
    {
      "cell_type": "code",
      "execution_count": 4,
      "metadata": {
        "id": "DSf2kIb-_Zct"
      },
      "outputs": [
        {
          "name": "stdout",
          "output_type": "stream",
          "text": [
            "<class 'pandas.core.frame.DataFrame'>\n",
            "RangeIndex: 65079 entries, 0 to 65078\n",
            "Data columns (total 7 columns):\n",
            " #   Column    Non-Null Count  Dtype \n",
            "---  ------    --------------  ----- \n",
            " 0     userID  65079 non-null  object\n",
            " 1   Track     63736 non-null  object\n",
            " 2   artist    57512 non-null  object\n",
            " 3   genre     63881 non-null  object\n",
            " 4     City    65079 non-null  object\n",
            " 5   time      65079 non-null  object\n",
            " 6   Day       65079 non-null  object\n",
            "dtypes: object(7)\n",
            "memory usage: 3.5+ MB\n"
          ]
        }
      ],
      "source": [
        "# memperoleh informasi umum tentang data yang tersedia di df\n",
        "df.info()"
      ]
    },
    {
      "cell_type": "markdown",
      "metadata": {
        "id": "TaQ2Iwbr_Zct"
      },
      "source": [
        "Tabel ini berisi tujuh kolom. Semua kolom memiliki tipe data yang sama, yaitu: `object`.\n",
        "\n",
        "Berdasarkan dokumentasi:\n",
        "- `'userID'` — ID pengguna\n",
        "- `'Track'` — judul lagu\n",
        "- `'artist'` — nama artis\n",
        "- `'genre'`\n",
        "- `'City'` — kota asal pengguna\n",
        "- `'time'` — waktu saat lagu tersebut diputar\n",
        "- `'Day'` — hari dalam seminggu\n",
        "\n",
        "Kita dapat melihat tiga masalah dengan gaya penulisan nama kolom:\n",
        "1. Beberapa nama ditulis dalam huruf besar, beberapa dalam huruf kecil.\n",
        "2. Beberapa nama menggunakan spasi.\n",
        "3. `Carilah sendiri masalah ketiga dalam gaya penulisan nama kolom dan jelaskan masalah tersebut di sini`.\n",
        "    `Masalah ketiga adalah dalam penulisan nama kolom yang tidak konsisten, ada nama kolom yang diawali dengan \n",
        "    huruf besar dan ada nama kolom yang diawali dengan huruf kecil.. kemudian terdapat nilai yang hilang \n",
        "    pada baris 65076 pada kolom artist`\n",
        "\n",
        "Kita juga dapat melihat bahwa terdapat jumlah nilai yang berbeda antar kolom. Hal ini menandakan bahwa data yang kita miliki mengandung nilai yang hilang.\n"
      ]
    },
    {
      "cell_type": "markdown",
      "metadata": {
        "id": "MCB6-dXG_Zct"
      },
      "source": [
        "### Kesimpulan <a id='data_review_conclusions'></a> \n",
        "\n",
        "Setiap baris dalam tabel menyimpan data terkait trek lagu yang diputar. Beberapa kolom menyimpan data yang mendeskripsikan trek itu sendiri: judul lagu, artis, dan genre. Sisanya menyimpan data terkait informasi pengguna: kota asal mereka, waktu mereka memutar trek lagu tersebut.\n",
        "\n",
        "Jelas bahwa data yang kita miliki cukup untuk menguji hipotesis. Sayangnya, terdapat sejumlah nilai yang hilang.\n",
        "\n",
        "Untuk melanjutkan analisis, kita perlu melakukan pra-pemrosesan data terlebih dahulu."
      ]
    },
    {
      "cell_type": "markdown",
      "metadata": {
        "id": "SjYF6Ub9_Zct"
      },
      "source": [
        "## Tahap 2. Pra-pemrosesan data <a id='data_preprocessing'></a>\n",
        "Perbaiki format pada judul kolom dan atasi nilai yang hilang. Kemudian, periksa apakah datamu mengandung duplikat."
      ]
    },
    {
      "cell_type": "markdown",
      "metadata": {
        "id": "dIaKXr29_Zct"
      },
      "source": [
        "### Gaya penulisan judul <a id='header_style'></a>\n",
        "Tampilkan judul kolom:\n"
      ]
    },
    {
      "cell_type": "code",
      "execution_count": 5,
      "metadata": {
        "id": "oKOTdF_Q_Zct"
      },
      "outputs": [
        {
          "name": "stdout",
          "output_type": "stream",
          "text": [
            "Index(['  userID', 'Track', 'artist', 'genre', '  City  ', 'time', 'Day'], dtype='object')\n"
          ]
        }
      ],
      "source": [
        "# list yang memuat nama-nama kolom pada tabel df\n",
        "print(df.columns) "
      ]
    },
    {
      "cell_type": "markdown",
      "metadata": {
        "id": "zj5534cv_Zct"
      },
      "source": [
        "Ubah nama kolom sesuai dengan aturan gaya penulisan yang baik:\n",
        "* Jika nama kolom terdiri dari beberapa kata, gunakan snake_case\n",
        "* Semua karakter harus menggunakan huruf kecil\n",
        "* Hapus spasi"
      ]
    },
    {
      "cell_type": "code",
      "execution_count": 6,
      "metadata": {
        "id": "ISlFqs5y_Zct"
      },
      "outputs": [
        {
          "name": "stdout",
          "output_type": "stream",
          "text": [
            "Index(['user_id', 'track', 'artist', 'genre', 'city', 'time', 'day'], dtype='object')\n"
          ]
        }
      ],
      "source": [
        "# mengganti nama kolom\n",
        "df = df.rename(\n",
        "    columns={\n",
        "         '  userID': 'user_id',\n",
        "        'Track': 'track',\n",
        "        '  City  ': 'city',\n",
        "        'Day': 'day'    \n",
        "     })\n",
        "\n",
        "print(df.columns)"
      ]
    },
    {
      "cell_type": "markdown",
      "metadata": {
        "id": "1dqbh00J_Zct"
      },
      "source": [
        "Periksa hasilnya. Tampilkan nama kolom sekali lagi:"
      ]
    },
    {
      "cell_type": "code",
      "execution_count": 7,
      "metadata": {
        "id": "d4NOAmTW_Zct"
      },
      "outputs": [
        {
          "name": "stdout",
          "output_type": "stream",
          "text": [
            "Index(['user_id', 'track', 'artist', 'genre', 'city', 'time', 'day'], dtype='object')\n"
          ]
        }
      ],
      "source": [
        "# mengecek hasilmu: tampilkan sekali lagi list yang memuat nama-nama kolom\n",
        "print(df.columns)"
      ]
    },
    {
      "cell_type": "markdown",
      "metadata": {
        "id": "xYJk6ksJVpOl"
      },
      "source": [
        "[Kembali ke Daftar Isi](#back)"
      ]
    },
    {
      "cell_type": "markdown",
      "metadata": {
        "id": "5ISfbcfY_Zct"
      },
      "source": [
        "### Nilai-nilai yang hilang <a id='missing_values'></a>\n",
        "Pertama, temukan jumlah nilai yang hilang dalam tabel. Untuk melakukannya, gunakan dua metode `Pandas`:"
      ]
    },
    {
      "cell_type": "code",
      "execution_count": 8,
      "metadata": {
        "id": "RskX29qr_Zct"
      },
      "outputs": [
        {
          "name": "stdout",
          "output_type": "stream",
          "text": [
            "user_id       0\n",
            "track      1343\n",
            "artist     7567\n",
            "genre      1198\n",
            "city          0\n",
            "time          0\n",
            "day           0\n",
            "dtype: int64\n"
          ]
        }
      ],
      "source": [
        "# menghitung nilai yang hilang\n",
        "print(df.isna().sum())"
      ]
    },
    {
      "cell_type": "markdown",
      "metadata": {
        "id": "qubhgnlO_Zct"
      },
      "source": [
        "Tidak semua nilai yang hilang berpengaruh terhadap penelitianmu. Misalnya, nilai yang hilang dalam kolom `track` dan `artist` tidak begitu penting. Kamu cukup menggantinya dengan penanda yang jelas.\n",
        "Akan tetapi, nilai yang hilang dalam kolom `'genre'` dapat memengaruhi perbandingan preferensi musik di kota Springfield dan Shelbyville. Dalam kehidupan nyata, sangatlah berguna untuk mempelajari alasan hilangnya data tersebut dan mencoba memperbaikinya. Sayangnya, kita belum memiliki kesempatan tersebut dalam proyek ini. Oleh karena itu, kamu harus:\n",
        "* Mengisi nilai yang hilang dengan penanda\n",
        "* Mengevaluasi seberapa besar pengaruh nilai yang hilang terhadap perhitunganmu"
      ]
    },
    {
      "cell_type": "markdown",
      "metadata": {
        "id": "fSv2laPA_Zct"
      },
      "source": [
        "Ganti nilai yang hilang pada kolom `'track'`, `'artist'`, dan `'genre'` dengan string `'unknown'`. Untuk melakukannya, buat list yang bernama `columns_to_replace`, terapkan loop `for` pada list tersebut, dan ganti nilai yang hilang di setiap kolom:"
      ]
    },
    {
      "cell_type": "code",
      "execution_count": 9,
      "metadata": {
        "id": "KplB5qWs_Zct",
        "scrolled": true
      },
      "outputs": [],
      "source": [
        "# menerapkan loop terhadap nama-nama kolom dan menggganti nilai yang hilang dengan 'unknown'\n",
        "columns_to_replace = ['track', 'artist', 'genre']\n",
        "\n",
        "for column in columns_to_replace:\n",
        "    df[column] = df[column].fillna('unknown')"
      ]
    },
    {
      "cell_type": "markdown",
      "metadata": {
        "id": "Ilsm-MZo_Zct"
      },
      "source": [
        "Pastikan tidak ada tabel lagi yang berisi nilai yang hilang. Hitung kembali nilai yang hilang."
      ]
    },
    {
      "cell_type": "code",
      "execution_count": 10,
      "metadata": {
        "id": "Tq4nYRX4_Zct"
      },
      "outputs": [
        {
          "name": "stdout",
          "output_type": "stream",
          "text": [
            "user_id    0\n",
            "track      0\n",
            "artist     0\n",
            "genre      0\n",
            "city       0\n",
            "time       0\n",
            "day        0\n",
            "dtype: int64\n"
          ]
        }
      ],
      "source": [
        "# menghitung nilai yang hilang\n",
        "print(df.isna().sum())"
      ]
    },
    {
      "cell_type": "markdown",
      "metadata": {
        "id": "74ZIBmq9VrsK"
      },
      "source": [
        "[Kembali ke Daftar Isi](#back)"
      ]
    },
    {
      "cell_type": "markdown",
      "metadata": {
        "id": "BWKRtBJ3_Zct"
      },
      "source": [
        "### Duplikat <a id='duplicates'></a>\n",
        "Temukan jumlah duplikat eksplisit dalam tabel menggunakan satu perintah:"
      ]
    },
    {
      "cell_type": "code",
      "execution_count": 11,
      "metadata": {
        "id": "36eES_S0_Zct"
      },
      "outputs": [
        {
          "name": "stdout",
          "output_type": "stream",
          "text": [
            "3826\n"
          ]
        }
      ],
      "source": [
        "# menghitung duplikat eksplisit\n",
        "print(df.duplicated().sum())"
      ]
    },
    {
      "cell_type": "markdown",
      "metadata": {
        "id": "Ot25h6XR_Zct"
      },
      "source": [
        "Panggil salah satu metode `Pandas` untuk menghapus duplikat eksplisit:"
      ]
    },
    {
      "cell_type": "code",
      "execution_count": 12,
      "metadata": {
        "id": "exFHq6tt_Zct"
      },
      "outputs": [],
      "source": [
        "# menghapus duplikat eksplisit\n",
        "df = df.drop_duplicates().reset_index(drop=True)"
      ]
    },
    {
      "cell_type": "markdown",
      "metadata": {
        "id": "Im2YwBEG_Zct"
      },
      "source": [
        "Hitung duplikat eksplisit sekali lagi untuk memastikan bahwa kamu telah berhasil menghapus semuanya:"
      ]
    },
    {
      "cell_type": "code",
      "execution_count": 13,
      "metadata": {
        "id": "-8PuNWQ0_Zct"
      },
      "outputs": [
        {
          "name": "stdout",
          "output_type": "stream",
          "text": [
            "0\n"
          ]
        }
      ],
      "source": [
        "# memeriksa duplikat\n",
        "print(df.duplicated().sum())"
      ]
    },
    {
      "cell_type": "markdown",
      "metadata": {
        "id": "QlFBsxAr_Zct"
      },
      "source": [
        "Sekarang, hapus duplikat implisit di kolom `genre`. Sebagai contoh, penulisan suatu nama genre dengan cara yang berbeda merupakan contoh dari duplikat implisit. Kesalahan seperti ini juga akan memengaruhi hasil analisismu."
      ]
    },
    {
      "cell_type": "markdown",
      "metadata": {
        "id": "eSjWwsOh_Zct"
      },
      "source": [
        "Tampilkan list yang memuat nama unik genre, lalu urutkan list tersebut berdasarkan abjad. Untuk melakukannya:\n",
        "* Ambil kolom DataFrame yang diinginkan\n",
        "* Terapkan metode pengurutan pada kolom tersebut\\n\",\n",
        "* Untuk kolom yang telah diurutkan, panggil metode yang akan menghasilkan semua nilai unik kolom"
      ]
    },
    {
      "cell_type": "code",
      "execution_count": 14,
      "metadata": {
        "id": "JIUcqzZN_Zct"
      },
      "outputs": [
        {
          "name": "stdout",
          "output_type": "stream",
          "text": [
            "['acid' 'acoustic' 'action' 'adult' 'africa' 'afrikaans' 'alternative'\n",
            " 'ambient' 'americana' 'animated' 'anime' 'arabesk' 'arabic' 'arena'\n",
            " 'argentinetango' 'art' 'audiobook' 'avantgarde' 'axé' 'baile' 'balkan'\n",
            " 'beats' 'bigroom' 'black' 'bluegrass' 'blues' 'bollywood' 'bossa'\n",
            " 'brazilian' 'breakbeat' 'breaks' 'broadway' 'cantautori' 'cantopop'\n",
            " 'canzone' 'caribbean' 'caucasian' 'celtic' 'chamber' 'children' 'chill'\n",
            " 'chinese' 'choral' 'christian' 'christmas' 'classical' 'classicmetal'\n",
            " 'club' 'colombian' 'comedy' 'conjazz' 'contemporary' 'country' 'cuban'\n",
            " 'dance' 'dancehall' 'dancepop' 'dark' 'death' 'deep' 'deutschrock'\n",
            " 'deutschspr' 'dirty' 'disco' 'dnb' 'documentary' 'downbeat' 'downtempo'\n",
            " 'drum' 'dub' 'dubstep' 'eastern' 'easy' 'electronic' 'electropop' 'emo'\n",
            " 'entehno' 'epicmetal' 'estrada' 'ethnic' 'eurofolk' 'european'\n",
            " 'experimental' 'extrememetal' 'fado' 'film' 'fitness' 'flamenco' 'folk'\n",
            " 'folklore' 'folkmetal' 'folkrock' 'folktronica' 'forró' 'frankreich'\n",
            " 'französisch' 'french' 'funk' 'future' 'gangsta' 'garage' 'german'\n",
            " 'ghazal' 'gitarre' 'glitch' 'gospel' 'gothic' 'grime' 'grunge' 'gypsy'\n",
            " 'handsup' \"hard'n'heavy\" 'hardcore' 'hardstyle' 'hardtechno' 'hip'\n",
            " 'hip-hop' 'hiphop' 'historisch' 'holiday' 'hop' 'horror' 'house' 'idm'\n",
            " 'independent' 'indian' 'indie' 'indipop' 'industrial' 'inspirational'\n",
            " 'instrumental' 'international' 'irish' 'jam' 'japanese' 'jazz' 'jewish'\n",
            " 'jpop' 'jungle' 'k-pop' 'karadeniz' 'karaoke' 'kayokyoku' 'korean'\n",
            " 'laiko' 'latin' 'latino' 'leftfield' 'local' 'lounge' 'loungeelectronic'\n",
            " 'lovers' 'malaysian' 'mandopop' 'marschmusik' 'meditative'\n",
            " 'mediterranean' 'melodic' 'metal' 'metalcore' 'mexican' 'middle'\n",
            " 'minimal' 'miscellaneous' 'modern' 'mood' 'mpb' 'muslim' 'native'\n",
            " 'neoklassik' 'neue' 'new' 'newage' 'newwave' 'nu' 'nujazz' 'numetal'\n",
            " 'oceania' 'old' 'opera' 'orchestral' 'other' 'piano' 'pop'\n",
            " 'popelectronic' 'popeurodance' 'post' 'posthardcore' 'postrock' 'power'\n",
            " 'progmetal' 'progressive' 'psychedelic' 'punjabi' 'punk' 'quebecois'\n",
            " 'ragga' 'ram' 'rancheras' 'rap' 'rave' 'reggae' 'reggaeton' 'regional'\n",
            " 'relax' 'religious' 'retro' 'rhythm' 'rnb' 'rnr' 'rock' 'rockabilly'\n",
            " 'romance' 'roots' 'ruspop' 'rusrap' 'rusrock' 'salsa' 'samba' 'schlager'\n",
            " 'self' 'sertanejo' 'shoegazing' 'showtunes' 'singer' 'ska' 'slow'\n",
            " 'smooth' 'soul' 'soulful' 'sound' 'soundtrack' 'southern' 'specialty'\n",
            " 'speech' 'spiritual' 'sport' 'stonerrock' 'surf' 'swing' 'synthpop'\n",
            " 'sängerportrait' 'tango' 'tanzorchester' 'taraftar' 'tech' 'techno'\n",
            " 'thrash' 'top' 'traditional' 'tradjazz' 'trance' 'tribal' 'trip'\n",
            " 'triphop' 'tropical' 'türk' 'türkçe' 'unknown' 'urban' 'uzbek' 'variété'\n",
            " 'vi' 'videogame' 'vocal' 'western' 'world' 'worldbeat' 'ïîï']\n"
          ]
        }
      ],
      "source": [
        "# menampilkan nama genre yang unik\n",
        "genre_column = df['genre']\n",
        "sorted_genre_column = genre_column.sort_values()\n",
        "unique_genres = sorted_genre_column.unique()\n",
        "\n",
        "print(unique_genres)"
      ]
    },
    {
      "cell_type": "markdown",
      "metadata": {
        "id": "qej-Qmuo_Zct"
      },
      "source": [
        "Lihat baik-baik list yang telah ditampilkan untuk menemukan duplikat implisit dari genre `hiphop`. Duplikat tersebut bisa berupa nama yang ditulis secara tidak tepat atau nama alternatif dari genre yang sama.\n",
        "\n",
        "Kamu akan melihat duplikat implisit berikut:\n",
        "* `hip`\n",
        "* `hop`\n",
        "* `hip-hop`\n",
        "\n",
        "Untuk menghapusnya, gunakan fungsi `replace_wrong_genres()` dengan dua parameter:\n",
        "* `wrong_genres=` — list dengan duplikat yang ingin diganti\n",
        "* `correct_genre=` — string dengan nilai yang benar\n",
        "\n",
        "Fungsi tersebut harus mengoreksi nama dalam kolom `'genre'` dari tabel `df`, mengganti setiap nilai dari list `wrong_genres` dengan nilai dari `correct_genre`."
      ]
    },
    {
      "cell_type": "code",
      "execution_count": 15,
      "metadata": {
        "id": "ErNDkmns_Zct"
      },
      "outputs": [],
      "source": [
        "# masukkan fungsi yang mengganti duplikat implisit\n",
        "def replace_wrong_genres(wrong_genres, correct_genre):\n",
        "    for wrong_genre in wrong_genres:\n",
        "        df['genre'] = df['genre'].replace(wrong_genre, correct_genre)"
      ]
    },
    {
      "cell_type": "markdown",
      "metadata": {
        "id": "aDoBJxbA_Zct"
      },
      "source": [
        "Panggil `replace_wrong_genres()` dan teruskan argumen kepada fungsi tersebut, sehingga ia dapat menghapus duplikat implisit (`hip`, `hop`, dan `hip-hop`) dan menggantinya dengan `hiphop`:"
      ]
    },
    {
      "cell_type": "code",
      "execution_count": 16,
      "metadata": {
        "id": "YN5i2hpmSo09"
      },
      "outputs": [
        {
          "name": "stdout",
          "output_type": "stream",
          "text": [
            "        user_id                              track            artist  \\\n",
            "0      FFB692EC                  Kamigata To Boots  The Mass Missile   \n",
            "1      55204538        Delayed Because of Accident  Andreas Rönnberg   \n",
            "2        20EC38                  Funiculì funiculà       Mario Lanza   \n",
            "3      A3DD03C9              Dragons in the Sunset        Fire + Ice   \n",
            "4      E2DC1FAE                        Soul People        Space Echo   \n",
            "...         ...                                ...               ...   \n",
            "61248  729CBB09                            My Name            McLean   \n",
            "61249  D08D4A55  Maybe One Day (feat. Black Spade)       Blu & Exile   \n",
            "61250  C5E3A0D5                          Jalopiina           unknown   \n",
            "61251  321D0506                      Freight Train     Chas McDevitt   \n",
            "61252  3A64EF84          Tell Me Sweet Little Lies      Monica Lopez   \n",
            "\n",
            "            genre         city      time        day  \n",
            "0            rock  Shelbyville  20:28:33  Wednesday  \n",
            "1            rock  Springfield  14:07:09     Friday  \n",
            "2             pop  Shelbyville  20:58:07  Wednesday  \n",
            "3            folk  Shelbyville  08:37:09     Monday  \n",
            "4           dance  Springfield  08:34:34     Monday  \n",
            "...           ...          ...       ...        ...  \n",
            "61248         rnb  Springfield  13:32:28  Wednesday  \n",
            "61249      hiphop  Shelbyville  10:00:00     Monday  \n",
            "61250  industrial  Springfield  20:09:26     Friday  \n",
            "61251        rock  Springfield  21:43:59     Friday  \n",
            "61252     country  Springfield  21:59:46     Friday  \n",
            "\n",
            "[61253 rows x 7 columns]\n"
          ]
        }
      ],
      "source": [
        "# menghapus duplikat implisit\n",
        "duplicates = ['hip', 'hop', 'hip-hop']\n",
        "correct = 'hiphop'\n",
        "\n",
        "replace_wrong_genres(duplicates, correct)\n",
        "print(df)"
      ]
    },
    {
      "cell_type": "markdown",
      "metadata": {
        "id": "zQKF16_RG15m"
      },
      "source": [
        "Pastikan bahwa nilai yang terduplikasi telah dihapus. Tampilkan list nilai unik dari kolom `'genre'`:"
      ]
    },
    {
      "cell_type": "code",
      "execution_count": 17,
      "metadata": {
        "id": "wvixALnFG15m"
      },
      "outputs": [
        {
          "name": "stdout",
          "output_type": "stream",
          "text": [
            "['acid' 'acoustic' 'action' 'adult' 'africa' 'afrikaans' 'alternative'\n",
            " 'ambient' 'americana' 'animated' 'anime' 'arabesk' 'arabic' 'arena'\n",
            " 'argentinetango' 'art' 'audiobook' 'avantgarde' 'axé' 'baile' 'balkan'\n",
            " 'beats' 'bigroom' 'black' 'bluegrass' 'blues' 'bollywood' 'bossa'\n",
            " 'brazilian' 'breakbeat' 'breaks' 'broadway' 'cantautori' 'cantopop'\n",
            " 'canzone' 'caribbean' 'caucasian' 'celtic' 'chamber' 'children' 'chill'\n",
            " 'chinese' 'choral' 'christian' 'christmas' 'classical' 'classicmetal'\n",
            " 'club' 'colombian' 'comedy' 'conjazz' 'contemporary' 'country' 'cuban'\n",
            " 'dance' 'dancehall' 'dancepop' 'dark' 'death' 'deep' 'deutschrock'\n",
            " 'deutschspr' 'dirty' 'disco' 'dnb' 'documentary' 'downbeat' 'downtempo'\n",
            " 'drum' 'dub' 'dubstep' 'eastern' 'easy' 'electronic' 'electropop' 'emo'\n",
            " 'entehno' 'epicmetal' 'estrada' 'ethnic' 'eurofolk' 'european'\n",
            " 'experimental' 'extrememetal' 'fado' 'film' 'fitness' 'flamenco' 'folk'\n",
            " 'folklore' 'folkmetal' 'folkrock' 'folktronica' 'forró' 'frankreich'\n",
            " 'französisch' 'french' 'funk' 'future' 'gangsta' 'garage' 'german'\n",
            " 'ghazal' 'gitarre' 'glitch' 'gospel' 'gothic' 'grime' 'grunge' 'gypsy'\n",
            " 'handsup' \"hard'n'heavy\" 'hardcore' 'hardstyle' 'hardtechno' 'hiphop'\n",
            " 'historisch' 'holiday' 'horror' 'house' 'idm' 'independent' 'indian'\n",
            " 'indie' 'indipop' 'industrial' 'inspirational' 'instrumental'\n",
            " 'international' 'irish' 'jam' 'japanese' 'jazz' 'jewish' 'jpop' 'jungle'\n",
            " 'k-pop' 'karadeniz' 'karaoke' 'kayokyoku' 'korean' 'laiko' 'latin'\n",
            " 'latino' 'leftfield' 'local' 'lounge' 'loungeelectronic' 'lovers'\n",
            " 'malaysian' 'mandopop' 'marschmusik' 'meditative' 'mediterranean'\n",
            " 'melodic' 'metal' 'metalcore' 'mexican' 'middle' 'minimal'\n",
            " 'miscellaneous' 'modern' 'mood' 'mpb' 'muslim' 'native' 'neoklassik'\n",
            " 'neue' 'new' 'newage' 'newwave' 'nu' 'nujazz' 'numetal' 'oceania' 'old'\n",
            " 'opera' 'orchestral' 'other' 'piano' 'pop' 'popelectronic' 'popeurodance'\n",
            " 'post' 'posthardcore' 'postrock' 'power' 'progmetal' 'progressive'\n",
            " 'psychedelic' 'punjabi' 'punk' 'quebecois' 'ragga' 'ram' 'rancheras'\n",
            " 'rap' 'rave' 'reggae' 'reggaeton' 'regional' 'relax' 'religious' 'retro'\n",
            " 'rhythm' 'rnb' 'rnr' 'rock' 'rockabilly' 'romance' 'roots' 'ruspop'\n",
            " 'rusrap' 'rusrock' 'salsa' 'samba' 'schlager' 'self' 'sertanejo'\n",
            " 'shoegazing' 'showtunes' 'singer' 'ska' 'slow' 'smooth' 'soul' 'soulful'\n",
            " 'sound' 'soundtrack' 'southern' 'specialty' 'speech' 'spiritual' 'sport'\n",
            " 'stonerrock' 'surf' 'swing' 'synthpop' 'sängerportrait' 'tango'\n",
            " 'tanzorchester' 'taraftar' 'tech' 'techno' 'thrash' 'top' 'traditional'\n",
            " 'tradjazz' 'trance' 'tribal' 'trip' 'triphop' 'tropical' 'türk' 'türkçe'\n",
            " 'unknown' 'urban' 'uzbek' 'variété' 'vi' 'videogame' 'vocal' 'western'\n",
            " 'world' 'worldbeat' 'ïîï']\n"
          ]
        }
      ],
      "source": [
        "# memeriksa duplikat implisit\n",
        "genre_column = df['genre']\n",
        "sorted_genre_column = genre_column.sort_values()\n",
        "unique_genres = sorted_genre_column.unique()\n",
        "\n",
        "print(unique_genres)"
      ]
    },
    {
      "cell_type": "markdown",
      "metadata": {
        "id": "ALgNbvF3VtPA"
      },
      "source": [
        "[Kembali ke Daftar Isi](#back)"
      ]
    },
    {
      "cell_type": "markdown",
      "metadata": {
        "id": "jz6a9-7HQUDd"
      },
      "source": [
        "### Kesimpulan <a id='data_preprocessing_conclusions'></a>\n",
        "Kita telah mendeteksi tiga masalah dalam data kita:\n",
        "\n",
        "- Gaya penulisan judul yang salah\n",
        "- Nilai yang hilang\n",
        "- Duplikat eksplisit dan implisit\n",
        "\n",
        "Sekarang, nama-nama kolom telah dibersihkan untuk mempermudah pemrosesan tabel.\n",
        "Semua nilai yang hilang pun telah diganti dengan `'unknown'`. Meski demikian, kita masih harus melihat apakah nilai yang hilang dalam kolom `'genre'` akan memengaruhi perhitungan kita.\n",
        "\n",
        "Ketiadaan duplikat akan membuat hasil yang kita dapat menjadi lebih tepat dan lebih mudah dipahami.\n",
        "\n",
        "Yuk, kita lanjut ke tahap pengujian hipotesis."
      ]
    },
    {
      "cell_type": "markdown",
      "metadata": {
        "id": "eK1es74rVujj"
      },
      "source": [
        "[Kembali ke Daftar Isi](#back)"
      ]
    },
    {
      "cell_type": "markdown",
      "metadata": {
        "id": "WttZHXH0SqKk"
      },
      "source": [
        "## Tahap 3. Pengujian hipotesis <a id='hypotheses'></a>"
      ]
    },
    {
      "cell_type": "markdown",
      "metadata": {
        "id": "Im936VVi_Zcu"
      },
      "source": [
        "### Hipotesis 1: membandingkan perilaku pengguna di dua kota <a id='activity'></a>"
      ]
    },
    {
      "cell_type": "markdown",
      "metadata": {
        "id": "nwt_MuaL_Zcu"
      },
      "source": [
        "Menurut hipotesis pertama, pengguna dari kota Springfield dan Shelbyville memiliki perbedaan perilaku dalam mendengarkan musik. Pengujian ini menggunakan data yang diambil dari tiga hari dalam seminggu: Senin, Rabu, dan Jumat.\n",
        "\n",
        "* Bagilah pengguna ke dalam beberapa kelompok berdasarkan kota.\n",
        "* Bandingkan berapa banyak trek lagu yang dimainkan oleh setiap kelompok pada hari Senin, Rabu, dan Jumat."
      ]
    },
    {
      "cell_type": "markdown",
      "metadata": {
        "id": "8Dw_YMmT_Zcu"
      },
      "source": [
        "Lakukan setiap perhitungan secara terpisah agar kamu bisa berlatih.\n",
        "\n",
        "Evaluasi aktivitas pengguna di setiap kota. Kelompokkan data berdasarkan kota dan temukan jumlah trek lagu yang diputar di setiap kelompok.\n",
        "\n"
      ]
    },
    {
      "cell_type": "code",
      "execution_count": 18,
      "metadata": {
        "id": "0_Qs96oh_Zcu",
        "scrolled": true
      },
      "outputs": [
        {
          "name": "stdout",
          "output_type": "stream",
          "text": [
            "             user_id  track  artist  genre   time    day\n",
            "city                                                    \n",
            "Shelbyville    18512  18512   18512  18512  18512  18512\n",
            "Springfield    42741  42741   42741  42741  42741  42741\n"
          ]
        }
      ],
      "source": [
        "# Menghitung trek lagu yang diputar di setiap kota\n",
        "print(df.groupby('city').count())"
      ]
    },
    {
      "cell_type": "markdown",
      "metadata": {
        "id": "dzli3w8o_Zcu"
      },
      "source": [
        "Pengguna dari kota Springfield memutar lebih banyak trek lagu daripada pengguna dari kota Shelbyville. Akan tetapi, hal ini tidak serta-merta mengisyaratkan bahwa warga Springfield lebih sering mendengarkan musik. Kota ini memang lebih besar, dan terdapat lebih banyak pengguna. Jadi, ini merupakan hal yang wajar.\n",
        "\n",
        "Sekarang, kelompokkan data berdasarkan hari dan temukan jumlah trek lagu yang diputar pada hari Senin, Rabu, dan Jumat."
      ]
    },
    {
      "cell_type": "code",
      "execution_count": 19,
      "metadata": {
        "id": "uZMKjiJz_Zcu"
      },
      "outputs": [
        {
          "name": "stdout",
          "output_type": "stream",
          "text": [
            "day\n",
            "Friday       21840\n",
            "Monday       21354\n",
            "Wednesday    18059\n",
            "Name: track, dtype: int64\n"
          ]
        }
      ],
      "source": [
        "# Menghitung trek lagu yang diputar pada masing-masing hari\n",
        "day_track = df.groupby('day')['track'].count()\n",
        "print(day_track)"
      ]
    },
    {
      "cell_type": "markdown",
      "metadata": {
        "id": "cC2tNrlL_Zcu"
      },
      "source": [
        "Rabu adalah hari yang paling \"tenang\" secara keseluruhan. Namun jika kita mempertimbangkan kedua kota secara terpisah, kita mungkin akan mendapatkan kesimpulan yang berbeda."
      ]
    },
    {
      "cell_type": "markdown",
      "metadata": {
        "id": "POzs8bGa_Zcu"
      },
      "source": [
        "Kamu telah melihat cara kerja pengelompokan berdasarkan kota atau hari. Sekarang, tuliskan sebuah fungsi yang akan mengelompokkan data berdasarkan kota dan hari.\n",
        "\n",
        "Buat fungsi `number_tracks()` untuk menghitung jumlah trek lagu yang diputar untuk hari dan kota tertentu. Fungsi tersebut akan membutuhkan dua parameter:\n",
        "* nama hari dalam seminggu\n",
        "* nama kota\n",
        "\n",
        "Dalam fungsi yang kita buat, gunakan variabel untuk menyimpan baris dari tabel asli, di mana:\n",
        "  * Nilai kolom `'day'` sama dengan parameter `day`\\n\",\n",
        "  * Nilai kolom `'city'` sama dengan parameter `city`\n",
        "\n",
        "Terapkan pemfilteran berurutan dengan pengindeksan logika.\n",
        "\n",
        "Kemudian, hitung nilai kolom `'user_id'` pada tabel yang dihasilkan. Simpan hasilnya ke dalam variabel baru. Kembalikan variabel ini dari fungsi."
      ]
    },
    {
      "cell_type": "code",
      "execution_count": 20,
      "metadata": {
        "id": "Nz3GdQB1_Zcu"
      },
      "outputs": [
        {
          "name": "stdout",
          "output_type": "stream",
          "text": [
            "<function number_tracks at 0x7f4d80e0b430>\n",
            "Jumlah track lagu yang diputar pada hari Friday di kota Springfield: 15945\n"
          ]
        }
      ],
      "source": [
        "# <membuat fungsi number_tracks()>\n",
        "# Kita akan mendeklarasikan sebuah fungsi dengan dua parameter: day=, city=.\n",
        "# Buat agar variabel track_list menyimpan baris df, di mana\n",
        "# nilai di kolom 'day' sama dengan parameter day=, serta pada saat yang bersamaan,\n",
        "# nilai pada kolom 'city' sama dengan parameter city= (terapkan pemfilteran berurutan\n",
        "# dengan pengindeksan logika).\n",
        "# Buat agar variabel track_list_count menyimpan jumlah nilai kolom 'user_id' pada track_list\n",
        "# (temukan dengan metode count()).\\n\",\n",
        "# Buat agar fungsi yang kamu ciptakan menghasilkan angka: nilai track_list_count.\n",
        "\n",
        "def number_tracks(day, city):\n",
        "    track_list = df[(df['day'] == day) & (df['city'] == city)]\n",
        "    track_list_count = track_list['user_id'].count()\n",
        "    return track_list_count\n",
        "\n",
        "\n",
        "# Fungsi tersebut menghitung trek lagu yang diputar untuk kota dan hari tertentu.\n",
        "# Pertama-tama, ia akan mengambil baris dengan hari yang diinginkan dari tabel,\n",
        "# kemudian memfilter baris tersebut dengan kota yang diinginkan dari hasil,\n",
        "# kemudian mencari jumlah nilai 'user_id' pada tabel yang telah difilter,\n",
        "# lalu menghasilkan jumlah tersebut.\n",
        "# Untuk melihat apa yang dihasilkan, kemas pemanggilan fungsi pada print().\n",
        "\n",
        "print(number_tracks)\n",
        "\n",
        "day = 'Friday'\n",
        "city = 'Springfield'\n",
        "count = number_tracks(day, city)\n",
        "\n",
        "print(f'Jumlah track lagu yang diputar pada hari {day} di kota {city}: {count}')"
      ]
    },
    {
      "cell_type": "markdown",
      "metadata": {
        "id": "ytf7xFrFJQ2r"
      },
      "source": [
        "Panggil `number_tracks()` sebanyak enam kali dan ubahlah nilai parameternya pada masing-masing panggilan, sehingga kamu bisa mengambil data dari kedua kota untuk masing-masing hari (Senin, Rabu, dan Jumat)."
      ]
    },
    {
      "cell_type": "code",
      "execution_count": 21,
      "metadata": {
        "id": "rJcRATNQ_Zcu"
      },
      "outputs": [
        {
          "name": "stdout",
          "output_type": "stream",
          "text": [
            "Jumlah track lagu yang diputar pada hari Monday di kota Springfield: 15740\n"
          ]
        }
      ],
      "source": [
        "# jumlah lagu yang diputar di Springfield pada hari Senin\n",
        "day = 'Monday'\n",
        "city = 'Springfield'\n",
        "count = number_tracks(day, city)\n",
        "\n",
        "print(f'Jumlah track lagu yang diputar pada hari {day} di kota {city}: {count}')"
      ]
    },
    {
      "cell_type": "code",
      "execution_count": 22,
      "metadata": {
        "id": "hq_ncZ5T_Zcu"
      },
      "outputs": [
        {
          "name": "stdout",
          "output_type": "stream",
          "text": [
            "Jumlah track lagu yang diputar pada hari Monday di kota Shelbyville: 5614\n"
          ]
        }
      ],
      "source": [
        "# jumlah lagu yang diputar di Shelbyville pada hari Senin\n",
        "day = 'Monday'\n",
        "city = 'Shelbyville'\n",
        "count = number_tracks(day, city)\n",
        "\n",
        "print(f'Jumlah track lagu yang diputar pada hari {day} di kota {city}: {count}')"
      ]
    },
    {
      "cell_type": "code",
      "execution_count": 23,
      "metadata": {
        "id": "_NTy2VPU_Zcu"
      },
      "outputs": [
        {
          "name": "stdout",
          "output_type": "stream",
          "text": [
            "Jumlah track lagu yang diputar pada hari Wednesday di kota Springfield: 11056\n"
          ]
        }
      ],
      "source": [
        "# jumlah lagu yang diputar di Springfield pada hari Rabu\n",
        "day = 'Wednesday'\n",
        "city = 'Springfield'\n",
        "count = number_tracks(day, city)\n",
        "\n",
        "print(f'Jumlah track lagu yang diputar pada hari {day} di kota {city}: {count}')"
      ]
    },
    {
      "cell_type": "code",
      "execution_count": 24,
      "metadata": {
        "id": "j2y3TAwo_Zcu"
      },
      "outputs": [
        {
          "name": "stdout",
          "output_type": "stream",
          "text": [
            "Jumlah track lagu yang diputar pada hari Wednesday di kota Shelbyville: 7003\n"
          ]
        }
      ],
      "source": [
        "# jumlah lagu yang diputar di Shelbyville pada hari Rabu\n",
        "day = 'Wednesday'\n",
        "city = 'Shelbyville'\n",
        "count = number_tracks(day, city)\n",
        "\n",
        "print(f'Jumlah track lagu yang diputar pada hari {day} di kota {city}: {count}')"
      ]
    },
    {
      "cell_type": "code",
      "execution_count": 25,
      "metadata": {
        "id": "vYDw5u_K_Zcu"
      },
      "outputs": [
        {
          "name": "stdout",
          "output_type": "stream",
          "text": [
            "Jumlah track lagu yang diputar pada hari Friday di kota Springfield: 15945\n"
          ]
        }
      ],
      "source": [
        "# jumlah lagu yang diputar di Springfield pada hari Jumat\n",
        "day = 'Friday'\n",
        "city = 'Springfield'\n",
        "count = number_tracks(day, city)\n",
        "\n",
        "print(f'Jumlah track lagu yang diputar pada hari {day} di kota {city}: {count}')"
      ]
    },
    {
      "cell_type": "code",
      "execution_count": 26,
      "metadata": {
        "id": "8_yzFtW3_Zcu"
      },
      "outputs": [
        {
          "name": "stdout",
          "output_type": "stream",
          "text": [
            "Jumlah track lagu yang diputar pada hari Friday di kota Shelbyville: 5895\n"
          ]
        }
      ],
      "source": [
        "# jumlah lagu yang diputar di Shelbyville pada hari Jumat\n",
        "day = 'Friday'\n",
        "city = 'Shelbyville'\n",
        "count = number_tracks(day, city)\n",
        "\n",
        "print(f'Jumlah track lagu yang diputar pada hari {day} di kota {city}: {count}')"
      ]
    },
    {
      "cell_type": "markdown",
      "metadata": {
        "id": "7QXffbO-_Zcu"
      },
      "source": [
        "Gunakan `pd.DataFrame` untuk membuat sebuah tabel, yang\n",
        "* Nama kolomnya adalah: `['city', 'monday', 'wednesday', 'friday']`\n",
        "* Datanya adalah hasil yang kamu dapatkan dari `number_tracks()`"
      ]
    },
    {
      "cell_type": "code",
      "execution_count": 27,
      "metadata": {
        "id": "APAcLpOr_Zcu"
      },
      "outputs": [
        {
          "data": {
            "text/html": [
              "<div>\n",
              "<style scoped>\n",
              "    .dataframe tbody tr th:only-of-type {\n",
              "        vertical-align: middle;\n",
              "    }\n",
              "\n",
              "    .dataframe tbody tr th {\n",
              "        vertical-align: top;\n",
              "    }\n",
              "\n",
              "    .dataframe thead th {\n",
              "        text-align: right;\n",
              "    }\n",
              "</style>\n",
              "<table border=\"1\" class=\"dataframe\">\n",
              "  <thead>\n",
              "    <tr style=\"text-align: right;\">\n",
              "      <th></th>\n",
              "      <th>city</th>\n",
              "      <th>Monday</th>\n",
              "      <th>Wednesday</th>\n",
              "      <th>Friday</th>\n",
              "    </tr>\n",
              "  </thead>\n",
              "  <tbody>\n",
              "    <tr>\n",
              "      <th>0</th>\n",
              "      <td>Springfield</td>\n",
              "      <td>15740</td>\n",
              "      <td>11056</td>\n",
              "      <td>15945</td>\n",
              "    </tr>\n",
              "    <tr>\n",
              "      <th>1</th>\n",
              "      <td>Shelbyville</td>\n",
              "      <td>516</td>\n",
              "      <td>7003</td>\n",
              "      <td>5895</td>\n",
              "    </tr>\n",
              "  </tbody>\n",
              "</table>\n",
              "</div>"
            ],
            "text/plain": [
              "          city  Monday  Wednesday  Friday\n",
              "0  Springfield   15740      11056   15945\n",
              "1  Shelbyville     516       7003    5895"
            ]
          },
          "execution_count": 27,
          "metadata": {},
          "output_type": "execute_result"
        }
      ],
      "source": [
        "# tabel yang memuat hasil\n",
        "\n",
        "table = [\n",
        "    ['Springfield', 15740, 11056, 15945],\n",
        "    ['Shelbyville', 516, 7003, 5895]\n",
        "]\n",
        "\n",
        "table = pd.DataFrame(table, columns=['city', 'Monday', 'Wednesday', 'Friday'])\n",
        "table"
      ]
    },
    {
      "cell_type": "markdown",
      "metadata": {
        "id": "-EgPIHYu_Zcu"
      },
      "source": [
        "**Kesimpulan**\n",
        "\n",
        "Data yang kamu dapatkan ternyata berhasil mengungkapkan beberapa perbedaan perilaku pengguna:\n",
        "\n",
        "- Di kota Springfield, jumlah trek lagu yang diputar mencapai puncaknya pada hari Senin dan Jumat, sedangkan pada hari Rabu terjadi penurunan aktivitas.\n",
        "- Di kota Shelbyville, sebaliknya, pengguna lebih banyak mendengarkan musik pada hari Rabu. Aktivitas pengguna pada hari Senin dan Jumat lebih sedikit. \n",
        "\n",
        "Dengan demikian, dapat disimpulkan bahwa hipotesis pertama tampaknya benar."
      ]
    },
    {
      "cell_type": "markdown",
      "metadata": {
        "id": "p7nFQajCVw5B"
      },
      "source": [
        "[Kembali ke Daftar Isi](#back)"
      ]
    },
    {
      "cell_type": "markdown",
      "metadata": {
        "id": "atZAxtq4_Zcu"
      },
      "source": [
        "### Hipotesis 2: musik di awal dan akhir minggu <a id='week'></a>"
      ]
    },
    {
      "cell_type": "markdown",
      "metadata": {
        "id": "eXrQqXFH_Zcu"
      },
      "source": [
        "Menurut hipotesis kedua, pada hari Senin pagi dan Jumat malam, warga Springfield mendengarkan genre musik yang berbeda dari yang dinikmati warga Shelbyville."
      ]
    },
    {
      "cell_type": "markdown",
      "metadata": {
        "id": "S8UcW6Hw_Zcu"
      },
      "source": [
        "Dapatkan tabel (pastikan nama tabel gabungannya cocok dengan DataFrame yang diberikan dalam dua blok kode di bawah):\n",
        "* Untuk Springfield — `spr_general`\n",
        "* Untuk Shelbyville — `shel_general`"
      ]
    },
    {
      "cell_type": "code",
      "execution_count": 28,
      "metadata": {
        "id": "qeaFfM_P_Zcu"
      },
      "outputs": [
        {
          "data": {
            "text/html": [
              "<div>\n",
              "<style scoped>\n",
              "    .dataframe tbody tr th:only-of-type {\n",
              "        vertical-align: middle;\n",
              "    }\n",
              "\n",
              "    .dataframe tbody tr th {\n",
              "        vertical-align: top;\n",
              "    }\n",
              "\n",
              "    .dataframe thead th {\n",
              "        text-align: right;\n",
              "    }\n",
              "</style>\n",
              "<table border=\"1\" class=\"dataframe\">\n",
              "  <thead>\n",
              "    <tr style=\"text-align: right;\">\n",
              "      <th></th>\n",
              "      <th>user_id</th>\n",
              "      <th>track</th>\n",
              "      <th>artist</th>\n",
              "      <th>genre</th>\n",
              "      <th>city</th>\n",
              "      <th>time</th>\n",
              "      <th>day</th>\n",
              "    </tr>\n",
              "  </thead>\n",
              "  <tbody>\n",
              "    <tr>\n",
              "      <th>1</th>\n",
              "      <td>55204538</td>\n",
              "      <td>Delayed Because of Accident</td>\n",
              "      <td>Andreas Rönnberg</td>\n",
              "      <td>rock</td>\n",
              "      <td>Springfield</td>\n",
              "      <td>14:07:09</td>\n",
              "      <td>Friday</td>\n",
              "    </tr>\n",
              "    <tr>\n",
              "      <th>4</th>\n",
              "      <td>E2DC1FAE</td>\n",
              "      <td>Soul People</td>\n",
              "      <td>Space Echo</td>\n",
              "      <td>dance</td>\n",
              "      <td>Springfield</td>\n",
              "      <td>08:34:34</td>\n",
              "      <td>Monday</td>\n",
              "    </tr>\n",
              "    <tr>\n",
              "      <th>6</th>\n",
              "      <td>4CB90AA5</td>\n",
              "      <td>True</td>\n",
              "      <td>Roman Messer</td>\n",
              "      <td>dance</td>\n",
              "      <td>Springfield</td>\n",
              "      <td>13:00:07</td>\n",
              "      <td>Wednesday</td>\n",
              "    </tr>\n",
              "    <tr>\n",
              "      <th>7</th>\n",
              "      <td>F03E1C1F</td>\n",
              "      <td>Feeling This Way</td>\n",
              "      <td>Polina Griffith</td>\n",
              "      <td>dance</td>\n",
              "      <td>Springfield</td>\n",
              "      <td>20:47:49</td>\n",
              "      <td>Wednesday</td>\n",
              "    </tr>\n",
              "    <tr>\n",
              "      <th>8</th>\n",
              "      <td>8FA1D3BE</td>\n",
              "      <td>L’estate</td>\n",
              "      <td>Julia Dalia</td>\n",
              "      <td>ruspop</td>\n",
              "      <td>Springfield</td>\n",
              "      <td>09:17:40</td>\n",
              "      <td>Friday</td>\n",
              "    </tr>\n",
              "    <tr>\n",
              "      <th>...</th>\n",
              "      <td>...</td>\n",
              "      <td>...</td>\n",
              "      <td>...</td>\n",
              "      <td>...</td>\n",
              "      <td>...</td>\n",
              "      <td>...</td>\n",
              "      <td>...</td>\n",
              "    </tr>\n",
              "    <tr>\n",
              "      <th>61247</th>\n",
              "      <td>83A474E7</td>\n",
              "      <td>I Worship Only What You Bleed</td>\n",
              "      <td>The Black Dahlia Murder</td>\n",
              "      <td>extrememetal</td>\n",
              "      <td>Springfield</td>\n",
              "      <td>21:07:12</td>\n",
              "      <td>Monday</td>\n",
              "    </tr>\n",
              "    <tr>\n",
              "      <th>61248</th>\n",
              "      <td>729CBB09</td>\n",
              "      <td>My Name</td>\n",
              "      <td>McLean</td>\n",
              "      <td>rnb</td>\n",
              "      <td>Springfield</td>\n",
              "      <td>13:32:28</td>\n",
              "      <td>Wednesday</td>\n",
              "    </tr>\n",
              "    <tr>\n",
              "      <th>61250</th>\n",
              "      <td>C5E3A0D5</td>\n",
              "      <td>Jalopiina</td>\n",
              "      <td>unknown</td>\n",
              "      <td>industrial</td>\n",
              "      <td>Springfield</td>\n",
              "      <td>20:09:26</td>\n",
              "      <td>Friday</td>\n",
              "    </tr>\n",
              "    <tr>\n",
              "      <th>61251</th>\n",
              "      <td>321D0506</td>\n",
              "      <td>Freight Train</td>\n",
              "      <td>Chas McDevitt</td>\n",
              "      <td>rock</td>\n",
              "      <td>Springfield</td>\n",
              "      <td>21:43:59</td>\n",
              "      <td>Friday</td>\n",
              "    </tr>\n",
              "    <tr>\n",
              "      <th>61252</th>\n",
              "      <td>3A64EF84</td>\n",
              "      <td>Tell Me Sweet Little Lies</td>\n",
              "      <td>Monica Lopez</td>\n",
              "      <td>country</td>\n",
              "      <td>Springfield</td>\n",
              "      <td>21:59:46</td>\n",
              "      <td>Friday</td>\n",
              "    </tr>\n",
              "  </tbody>\n",
              "</table>\n",
              "<p>42741 rows × 7 columns</p>\n",
              "</div>"
            ],
            "text/plain": [
              "        user_id                          track                   artist  \\\n",
              "1      55204538    Delayed Because of Accident         Andreas Rönnberg   \n",
              "4      E2DC1FAE                    Soul People               Space Echo   \n",
              "6      4CB90AA5                           True             Roman Messer   \n",
              "7      F03E1C1F               Feeling This Way          Polina Griffith   \n",
              "8      8FA1D3BE                       L’estate              Julia Dalia   \n",
              "...         ...                            ...                      ...   \n",
              "61247  83A474E7  I Worship Only What You Bleed  The Black Dahlia Murder   \n",
              "61248  729CBB09                        My Name                   McLean   \n",
              "61250  C5E3A0D5                      Jalopiina                  unknown   \n",
              "61251  321D0506                  Freight Train            Chas McDevitt   \n",
              "61252  3A64EF84      Tell Me Sweet Little Lies             Monica Lopez   \n",
              "\n",
              "              genre         city      time        day  \n",
              "1              rock  Springfield  14:07:09     Friday  \n",
              "4             dance  Springfield  08:34:34     Monday  \n",
              "6             dance  Springfield  13:00:07  Wednesday  \n",
              "7             dance  Springfield  20:47:49  Wednesday  \n",
              "8            ruspop  Springfield  09:17:40     Friday  \n",
              "...             ...          ...       ...        ...  \n",
              "61247  extrememetal  Springfield  21:07:12     Monday  \n",
              "61248           rnb  Springfield  13:32:28  Wednesday  \n",
              "61250    industrial  Springfield  20:09:26     Friday  \n",
              "61251          rock  Springfield  21:43:59     Friday  \n",
              "61252       country  Springfield  21:59:46     Friday  \n",
              "\n",
              "[42741 rows x 7 columns]"
            ]
          },
          "execution_count": 28,
          "metadata": {},
          "output_type": "execute_result"
        }
      ],
      "source": [
        "# mendapatkan tabel spr_general dari baris df,\n",
        "# yang nilai dari kolom 'city'-nya adalah 'Springfield'\n",
        "spr_general = df[df['city'] == 'Springfield']\n",
        "\n",
        "spr_general"
      ]
    },
    {
      "cell_type": "code",
      "execution_count": 29,
      "metadata": {
        "id": "ORaVRKto_Zcu"
      },
      "outputs": [
        {
          "data": {
            "text/html": [
              "<div>\n",
              "<style scoped>\n",
              "    .dataframe tbody tr th:only-of-type {\n",
              "        vertical-align: middle;\n",
              "    }\n",
              "\n",
              "    .dataframe tbody tr th {\n",
              "        vertical-align: top;\n",
              "    }\n",
              "\n",
              "    .dataframe thead th {\n",
              "        text-align: right;\n",
              "    }\n",
              "</style>\n",
              "<table border=\"1\" class=\"dataframe\">\n",
              "  <thead>\n",
              "    <tr style=\"text-align: right;\">\n",
              "      <th></th>\n",
              "      <th>user_id</th>\n",
              "      <th>track</th>\n",
              "      <th>artist</th>\n",
              "      <th>genre</th>\n",
              "      <th>city</th>\n",
              "      <th>time</th>\n",
              "      <th>day</th>\n",
              "    </tr>\n",
              "  </thead>\n",
              "  <tbody>\n",
              "    <tr>\n",
              "      <th>0</th>\n",
              "      <td>FFB692EC</td>\n",
              "      <td>Kamigata To Boots</td>\n",
              "      <td>The Mass Missile</td>\n",
              "      <td>rock</td>\n",
              "      <td>Shelbyville</td>\n",
              "      <td>20:28:33</td>\n",
              "      <td>Wednesday</td>\n",
              "    </tr>\n",
              "    <tr>\n",
              "      <th>2</th>\n",
              "      <td>20EC38</td>\n",
              "      <td>Funiculì funiculà</td>\n",
              "      <td>Mario Lanza</td>\n",
              "      <td>pop</td>\n",
              "      <td>Shelbyville</td>\n",
              "      <td>20:58:07</td>\n",
              "      <td>Wednesday</td>\n",
              "    </tr>\n",
              "    <tr>\n",
              "      <th>3</th>\n",
              "      <td>A3DD03C9</td>\n",
              "      <td>Dragons in the Sunset</td>\n",
              "      <td>Fire + Ice</td>\n",
              "      <td>folk</td>\n",
              "      <td>Shelbyville</td>\n",
              "      <td>08:37:09</td>\n",
              "      <td>Monday</td>\n",
              "    </tr>\n",
              "    <tr>\n",
              "      <th>5</th>\n",
              "      <td>842029A1</td>\n",
              "      <td>Chains</td>\n",
              "      <td>Obladaet</td>\n",
              "      <td>rusrap</td>\n",
              "      <td>Shelbyville</td>\n",
              "      <td>13:09:41</td>\n",
              "      <td>Friday</td>\n",
              "    </tr>\n",
              "    <tr>\n",
              "      <th>9</th>\n",
              "      <td>E772D5C0</td>\n",
              "      <td>Pessimist</td>\n",
              "      <td>unknown</td>\n",
              "      <td>dance</td>\n",
              "      <td>Shelbyville</td>\n",
              "      <td>21:20:49</td>\n",
              "      <td>Wednesday</td>\n",
              "    </tr>\n",
              "    <tr>\n",
              "      <th>...</th>\n",
              "      <td>...</td>\n",
              "      <td>...</td>\n",
              "      <td>...</td>\n",
              "      <td>...</td>\n",
              "      <td>...</td>\n",
              "      <td>...</td>\n",
              "      <td>...</td>\n",
              "    </tr>\n",
              "    <tr>\n",
              "      <th>61239</th>\n",
              "      <td>D94F810B</td>\n",
              "      <td>Theme from the Walking Dead</td>\n",
              "      <td>Proyecto Halloween</td>\n",
              "      <td>film</td>\n",
              "      <td>Shelbyville</td>\n",
              "      <td>21:14:40</td>\n",
              "      <td>Monday</td>\n",
              "    </tr>\n",
              "    <tr>\n",
              "      <th>61240</th>\n",
              "      <td>BC8EC5CF</td>\n",
              "      <td>Red Lips: Gta (Rover Rework)</td>\n",
              "      <td>Rover</td>\n",
              "      <td>electronic</td>\n",
              "      <td>Shelbyville</td>\n",
              "      <td>21:06:50</td>\n",
              "      <td>Monday</td>\n",
              "    </tr>\n",
              "    <tr>\n",
              "      <th>61241</th>\n",
              "      <td>29E04611</td>\n",
              "      <td>Bre Petrunko</td>\n",
              "      <td>Perunika Trio</td>\n",
              "      <td>world</td>\n",
              "      <td>Shelbyville</td>\n",
              "      <td>13:56:00</td>\n",
              "      <td>Monday</td>\n",
              "    </tr>\n",
              "    <tr>\n",
              "      <th>61242</th>\n",
              "      <td>1B91C621</td>\n",
              "      <td>(Hello) Cloud Mountain</td>\n",
              "      <td>sleepmakeswaves</td>\n",
              "      <td>postrock</td>\n",
              "      <td>Shelbyville</td>\n",
              "      <td>09:22:13</td>\n",
              "      <td>Monday</td>\n",
              "    </tr>\n",
              "    <tr>\n",
              "      <th>61249</th>\n",
              "      <td>D08D4A55</td>\n",
              "      <td>Maybe One Day (feat. Black Spade)</td>\n",
              "      <td>Blu &amp; Exile</td>\n",
              "      <td>hiphop</td>\n",
              "      <td>Shelbyville</td>\n",
              "      <td>10:00:00</td>\n",
              "      <td>Monday</td>\n",
              "    </tr>\n",
              "  </tbody>\n",
              "</table>\n",
              "<p>18512 rows × 7 columns</p>\n",
              "</div>"
            ],
            "text/plain": [
              "        user_id                              track              artist  \\\n",
              "0      FFB692EC                  Kamigata To Boots    The Mass Missile   \n",
              "2        20EC38                  Funiculì funiculà         Mario Lanza   \n",
              "3      A3DD03C9              Dragons in the Sunset          Fire + Ice   \n",
              "5      842029A1                             Chains            Obladaet   \n",
              "9      E772D5C0                          Pessimist             unknown   \n",
              "...         ...                                ...                 ...   \n",
              "61239  D94F810B        Theme from the Walking Dead  Proyecto Halloween   \n",
              "61240  BC8EC5CF       Red Lips: Gta (Rover Rework)               Rover   \n",
              "61241  29E04611                       Bre Petrunko       Perunika Trio   \n",
              "61242  1B91C621             (Hello) Cloud Mountain     sleepmakeswaves   \n",
              "61249  D08D4A55  Maybe One Day (feat. Black Spade)         Blu & Exile   \n",
              "\n",
              "            genre         city      time        day  \n",
              "0            rock  Shelbyville  20:28:33  Wednesday  \n",
              "2             pop  Shelbyville  20:58:07  Wednesday  \n",
              "3            folk  Shelbyville  08:37:09     Monday  \n",
              "5          rusrap  Shelbyville  13:09:41     Friday  \n",
              "9           dance  Shelbyville  21:20:49  Wednesday  \n",
              "...           ...          ...       ...        ...  \n",
              "61239        film  Shelbyville  21:14:40     Monday  \n",
              "61240  electronic  Shelbyville  21:06:50     Monday  \n",
              "61241       world  Shelbyville  13:56:00     Monday  \n",
              "61242    postrock  Shelbyville  09:22:13     Monday  \n",
              "61249      hiphop  Shelbyville  10:00:00     Monday  \n",
              "\n",
              "[18512 rows x 7 columns]"
            ]
          },
          "execution_count": 29,
          "metadata": {},
          "output_type": "execute_result"
        }
      ],
      "source": [
        "# mendapatkan shel_general dari baris df,\n",
        "# yang nilai dari kolom 'city'-nya adalah 'Shelbyville'\n",
        "shel_general = df[df['city'] == 'Shelbyville']\n",
        "\n",
        "shel_general"
      ]
    },
    {
      "cell_type": "markdown",
      "metadata": {
        "id": "MEJV-CX2_Zcu"
      },
      "source": [
        "Buat fungsi `genre_weekday()` dengan empat parameter:\n",
        "* Sebuah tabel untuk data\n",
        "* Nama hari\n",
        "* Stempel waktu awal, dalam format 'hh:mm'\n",
        "* Stempel waktu akhir, dalam format 'hh:mm'\n",
        "\n",
        "Fungsi tersebut harus menghasilkan informasi tentang 15 genre paling populer pada hari tertentu dalam periode antara dua stempel waktu."
      ]
    },
    {
      "cell_type": "code",
      "execution_count": 30,
      "metadata": {
        "id": "laJT9BYl_Zcu"
      },
      "outputs": [],
      "source": [
        "# Mendeklarasikan fungsi genre_weekday() dengan parameter day=, time1=, dan time2=. Fungsi tersebut harus\n",
        "# memberikan informasi tentang genre yang paling populer pada hari dan waktu tertentu:\n",
        "\n",
        "# 1) Buat agar variabel genre_df menyimpan baris yang memenuhi beberapa kondisi berikut:\n",
        "#   - nilai pada kolom 'day' sama dengan nilai argumen day=\n",
        "#   - nilai pada kolom 'time' lebih besar dari nilai argumen time1=\n",
        "#   - nilai pada kolom 'time' lebih kecil dari nilai argumen time2=\n",
        "#   Gunakan pemfilteran berurutan dengan pengindeksan logika.\n",
        "\n",
        "# 2) Kelompokkan genre_df berdasarkan kolom 'genre', ambil salah satu kolomnya,\n",
        "#    kemudian gunakan metode count() untuk menemukan jumlah entri untuk masing-masing\n",
        "#    genre yang diwakili; simpan Series yang dihasilkan ke dalam\n",
        "#    variabel genre_df_count\n",
        "\n",
        "# 3) Urutkan genre_df_count dalam urutan menurun berdasarkan frekuensi dan simpan hasilnya\n",
        "#    ke dalam variabel genre_df_sorted\n",
        "\n",
        "# 4) Hasilkan sebuah objek Series dengan 15 nilai genre_df_sorted pertama - 15 genre paling\n",
        "#    populer (pada hari tertentu, dalam jangka waktu tertentu)\n",
        "\n",
        "# tulis fungsi Anda di sini\n",
        "\n",
        "def genre_weekday(data, day, time1, time2):\n",
        "    \n",
        "    # pemfilteran berurutan\n",
        "    # genre_df hanya akan menyimpan baris df yang day-nya sama dengan day\n",
        "    # genre_df hanya akan menyimpan baris df yang time-nya lebih kecil dari time2\n",
        "    # genre_df hanya akan menyimpan baris df yang time-nya lebih besar dari time1\n",
        "    genre_df = df[(df['day'] ==day) & (df['time']>time1) & (df['time']<time2)]\n",
        "    # kelompokkan DataFrame yang telah difilter berdasarkan kolom dengan nama genre, ambil kolom genre, dan temukan jumlah baris untuk setiap genre dengan metode count()\n",
        "    genre_df_grouped = genre_df.groupby('genre')['genre'].count()\n",
        "\n",
        "    # # kita akan mengurutkan hasilnya dalam urutan menurun (sehingga genre yang paling populer ditampilkan lebih awal pada objek Series)\n",
        "    genre_df_sorted = genre_df_grouped.sort_values(ascending=False)\n",
        "\n",
        "    # kita akan menghasilkan objek Series yang menyimpan 15 genre paling populer pada hari tertentu dalam jangka waktu tertentu\n",
        "    return genre_df_sorted[:15]\n"
      ]
    },
    {
      "cell_type": "markdown",
      "metadata": {
        "id": "la2s2_PF_Zcu"
      },
      "source": [
        "Bandingkan hasil dari fungsi `genre_weekday()` untuk Springfield dan Shelbyville pada hari Senin pagi (dari pukul 07.00 hingga 11.00) dan pada hari Jumat malam (dari pukul 17:00 hingga 23:00):"
      ]
    },
    {
      "cell_type": "code",
      "execution_count": 31,
      "metadata": {},
      "outputs": [],
      "source": [
        "data = spr_general.copy()\n",
        "day='Monday'\n",
        "time1='07.00'\n",
        "time2='11.00'"
      ]
    },
    {
      "cell_type": "code",
      "execution_count": 32,
      "metadata": {
        "id": "yz7itPUQ_Zcu",
        "scrolled": true
      },
      "outputs": [
        {
          "name": "stdout",
          "output_type": "stream",
          "text": [
            "genre\n",
            "pop            999\n",
            "dance          731\n",
            "rock           636\n",
            "electronic     627\n",
            "hiphop         366\n",
            "ruspop         250\n",
            "rusrap         230\n",
            "alternative    222\n",
            "world          217\n",
            "classical      197\n",
            "unknown        179\n",
            "metal          147\n",
            "jazz           144\n",
            "soundtrack     126\n",
            "folk           121\n",
            "Name: genre, dtype: int64\n"
          ]
        }
      ],
      "source": [
        "# memanggil fungsi untuk Senin pagi di Springfield (gunakan spr_general alih-alih tabel df)\n",
        "result_spr_monday_morning = genre_weekday(spr_general, day='Monday', time1='07.00', time2='11.00')\n",
        "\n",
        "print(result_spr_monday_morning)"
      ]
    },
    {
      "cell_type": "code",
      "execution_count": 33,
      "metadata": {
        "id": "kwUcHPdy_Zcu"
      },
      "outputs": [
        {
          "name": "stdout",
          "output_type": "stream",
          "text": [
            "genre\n",
            "pop            999\n",
            "dance          731\n",
            "rock           636\n",
            "electronic     627\n",
            "hiphop         366\n",
            "ruspop         250\n",
            "rusrap         230\n",
            "alternative    222\n",
            "world          217\n",
            "classical      197\n",
            "unknown        179\n",
            "metal          147\n",
            "jazz           144\n",
            "soundtrack     126\n",
            "folk           121\n",
            "Name: genre, dtype: int64\n"
          ]
        }
      ],
      "source": [
        "# memanggil fungsi untuk Senin pagi di Shelbyville (gunakan shel_general alih-alih tabel df)\n",
        "result_shel_monday_morning = genre_weekday(shel_general, day='Monday', time1='07.00', time2='11.00')\n",
        "\n",
        "print(result_shel_monday_morning)"
      ]
    },
    {
      "cell_type": "code",
      "execution_count": 34,
      "metadata": {
        "id": "EzXVRE1o_Zcu"
      },
      "outputs": [
        {
          "name": "stdout",
          "output_type": "stream",
          "text": [
            "genre\n",
            "pop            969\n",
            "rock           733\n",
            "dance          705\n",
            "electronic     698\n",
            "hiphop         370\n",
            "world          262\n",
            "alternative    226\n",
            "classical      223\n",
            "ruspop         217\n",
            "rusrap         201\n",
            "jazz           172\n",
            "unknown        157\n",
            "soundtrack     145\n",
            "metal          127\n",
            "rnb            121\n",
            "Name: genre, dtype: int64\n"
          ]
        }
      ],
      "source": [
        "# memanggil fungsi untuk Jumat malam di Springfield\\n\"\n",
        "result_spr_friday_evening = genre_weekday(spr_general, day='Friday', time1='17.00', time2='23.00')\n",
        "\n",
        "print(result_spr_friday_evening)"
      ]
    },
    {
      "cell_type": "code",
      "execution_count": 35,
      "metadata": {
        "id": "JZaEKu5v_Zcu"
      },
      "outputs": [
        {
          "name": "stdout",
          "output_type": "stream",
          "text": [
            "genre\n",
            "pop            969\n",
            "rock           733\n",
            "dance          705\n",
            "electronic     698\n",
            "hiphop         370\n",
            "world          262\n",
            "alternative    226\n",
            "classical      223\n",
            "ruspop         217\n",
            "rusrap         201\n",
            "jazz           172\n",
            "unknown        157\n",
            "soundtrack     145\n",
            "metal          127\n",
            "rnb            121\n",
            "Name: genre, dtype: int64\n"
          ]
        }
      ],
      "source": [
        "# memanggil fungsi untuk Jumat malam di Shelbyville\n",
        "result_shel_friday_evening = genre_weekday(shel_general, day='Friday', time1='17.00', time2='23.00')\n",
        "\n",
        "print(result_shel_friday_evening)"
      ]
    },
    {
      "cell_type": "markdown",
      "metadata": {
        "id": "wrCe4MNX_Zcu"
      },
      "source": [
        "**Kesimpulan**\n",
        "\n",
        "Setelah membandingkan 15 genre teratas pada hari Senin pagi, kita dapat menarik kesimpulan berikut:\n",
        "\n",
        "1. Pengguna dari Springfield dan Shelbyville mendengarkan musik dengan genre yang sama. Lima genre teratas dari kedua kota sama, hanya genre rock dan elektronik yang bertukar tempat.\n",
        "\n",
        "2. Di Springfield, jumlah nilai yang hilang ternyata sangat besar, sehingga nilai `'unknown'` pun berada di urutan ke-10. Artinya, nilai-nilai yang hilang mencakup proporsi data yang cukup besar, sehingga fakta ini bisa dijadikan dasar untuk mempertanyakan reliabilitas kesimpulan kami.\n",
        "\n",
        "Untuk hari Jumat malam, situasinya juga serupa. Genre individual cukup bervariasi, tetapi secara keseluruhan, 15 besar genre untuk kedua kota sama.\n",
        "\n",
        "Dengan demikian, hipotesis kedua terbukti benar sebagian:\n",
        "* Pengguna mendengarkan musik yang sama di awal dan di akhir minggu.\n",
        "* Tidak ada perbedaan yang mencolok antara Springfield dan Shelbyville. Di kedua kota tersebut, pop adalah genre yang paling populer.\n",
        "\n",
        "Meski demikian, signifikansi jumlah nilai yang hilang membuat hasil ini patut dipertanyakan. Di Springfield, terdapat begitu banyak nilai hilang yang memengaruhi hasil 15 genre teratas kita. Jika kita tidak memiliki nilai-nilai yang hilang tersebut, hasilnya mungkin akan berbeda."
      ]
    },
    {
      "cell_type": "markdown",
      "metadata": {
        "id": "jLmXgdanVyhP"
      },
      "source": [
        "[Kembali ke Daftar Isi](#back)"
      ]
    },
    {
      "cell_type": "markdown",
      "metadata": {
        "id": "JolODAqr_Zcu"
      },
      "source": [
        "### Hipotesis 3: preferensi genre di kota Springfield dan Shelbyville <a id='genre'></a>\n",
        "\n",
        "Hipotesis: pendengar di kota Shelbyville menyukai musik rap, sementara pendengar di kota Springfield lebih menyukai pop."
      ]
    },
    {
      "cell_type": "markdown",
      "metadata": {
        "id": "DlegSvaT_Zcu"
      },
      "source": [
        "Kelompokkan tabel `spr_general` berdasarkan genre dan temukan jumlah trek lagu yang dimainkan untuk setiap genre dengan metode `count()`. Kemudian, urutkan hasilnya dalam urutan menurun dan simpanlah ke `spr_genres`."
      ]
    },
    {
      "cell_type": "code",
      "execution_count": 36,
      "metadata": {
        "id": "r19lIPke_Zcu"
      },
      "outputs": [],
      "source": [
        "# dalam satu baris: kelompokkan tabel spr_general berdasarkan kolom 'genre',\n",
        "# hitung nilai kolom 'genre' dengan count() dalam pengelompokan,\n",
        "# urutkan Series yang dihasilkan dalam urutan menurun, lalu simpan hasilnya ke spr_genres\n",
        "\n",
        "spr_genres = spr_general.groupby('genre')['genre'].count().sort_values(ascending=False)"
      ]
    },
    {
      "cell_type": "markdown",
      "metadata": {
        "id": "6kMuomxTiIr8"
      },
      "source": [
        "Tampilkan 10 baris pertama dari `spr_genres`:"
      ]
    },
    {
      "cell_type": "code",
      "execution_count": 37,
      "metadata": {
        "id": "WhCSooF8_Zcv"
      },
      "outputs": [
        {
          "name": "stdout",
          "output_type": "stream",
          "text": [
            "genre\n",
            "pop            5892\n",
            "dance          4435\n",
            "rock           3965\n",
            "electronic     3786\n",
            "hiphop         2096\n",
            "classical      1616\n",
            "world          1432\n",
            "alternative    1379\n",
            "ruspop         1372\n",
            "rusrap         1161\n",
            "Name: genre, dtype: int64\n"
          ]
        }
      ],
      "source": [
        "# menampilkan 10 baris pertama dari spr_genres\n",
        "print(spr_genres.head(10))"
      ]
    },
    {
      "cell_type": "markdown",
      "metadata": {
        "id": "cnPG2vnN_Zcv"
      },
      "source": [
        "Sekarang, lakukan hal yang sama pada data dari Shelbyville.\n",
        "\n",
        "Kelompokkan tabel `shel_general` berdasarkan genre dan temukan jumlah trek lagu yang dimainkan untuk setiap genre. Kemudian, urutkan hasilnya dalam urutan menurun dan simpan hasil tersebut ke tabel `shel_genres`:"
      ]
    },
    {
      "cell_type": "code",
      "execution_count": 38,
      "metadata": {
        "id": "gluLIpE7_Zcv"
      },
      "outputs": [],
      "source": [
        "# dalam satu baris: kelompokkan tabel shel_general berdasarkan kolom 'genre',\n",
        "# hitung nilai kolom 'genre' dalam pengelompokan menggunakan count(),\n",
        "# urutkan Series yang dihasilkan dalam urutan menurun dan simpanlah ke shel_genres\n",
        "\n",
        "shel_genres = shel_general.groupby('genre')['genre'].count().sort_values(ascending=False)"
      ]
    },
    {
      "cell_type": "markdown",
      "metadata": {
        "id": "5Doha_ODgyQ8"
      },
      "source": [
        "Tampilkan 10 baris pertama dari `shel_genres`:"
      ]
    },
    {
      "cell_type": "code",
      "execution_count": 39,
      "metadata": {
        "id": "uaGJHjVU_Zcv"
      },
      "outputs": [
        {
          "name": "stdout",
          "output_type": "stream",
          "text": [
            "genre\n",
            "pop            2431\n",
            "dance          1932\n",
            "rock           1879\n",
            "electronic     1736\n",
            "hiphop          960\n",
            "alternative     649\n",
            "classical       646\n",
            "rusrap          564\n",
            "ruspop          538\n",
            "world           515\n",
            "Name: genre, dtype: int64\n"
          ]
        }
      ],
      "source": [
        "# menampilkan 10 baris pertama dari shel_genres\n",
        "print(shel_genres.head(10))"
      ]
    },
    {
      "cell_type": "markdown",
      "metadata": {
        "id": "RY51YJYu_Zcv"
      },
      "source": [
        "**Kesimpulan**"
      ]
    },
    {
      "cell_type": "markdown",
      "metadata": {
        "id": "nVhnJEm__Zcv"
      },
      "source": [
        "Hipotesis ini terbukti benar sebagian:\n",
        "* Musik pop adalah genre yang paling populer di Springfield, seperti yang kita perkirakan.\n",
        "* Namun, musik pop ternyata sama populernya baik di Springfield maupun di Shelbyville, dan musik rap ternyata tidak masuk ke daftar 5 besar genre untuk kedua kota tersebut.\n"
      ]
    },
    {
      "cell_type": "markdown",
      "metadata": {
        "id": "Byr0RfpPVz14"
      },
      "source": [
        "[Kembali ke Daftar Isi](#back)"
      ]
    },
    {
      "cell_type": "markdown",
      "metadata": {
        "id": "ykKQ0N65_Zcv"
      },
      "source": [
        "# Temuan <a id='end'></a>"
      ]
    },
    {
      "cell_type": "markdown",
      "metadata": {
        "id": "tjUwbHb3_Zcv"
      },
      "source": [
        "Kita telah menguji tiga hipotesis berikut:\n",
        "\n",
        "1. Aktivitas pengguna berbeda-beda tergantung pada hari dan kotanya.\n",
        "2. Pada hari Senin pagi, penduduk Springfield dan Shelbyville mendengarkan genre yang berbeda. Hal ini juga berlaku untuk hari Jumat malam.\n",
        "3. Pendengar di kota Springfield dan Shelbyville memiliki preferensi yang berbeda. Baik di Springfield maupun di Shelbyville, pengguna lebih menyukai musik pop.\n",
        "\n",
        "Setelah menganalisis data yang tersedia, kita dapat menyimpulkan bahwa:\n",
        "\n",
        "1. Aktivitas pengguna di Springfield dan Shelbyville bergantung pada hari dalam seminggu, meskipun kedua kota ini bervariasi dalam berbagai cara.\n",
        "\n",
        "Hipotesis pertama dapat diterima sepenuhnya.\n",
        "\n",
        "2. Preferensi musik tidak bervariasi secara signifikan sepanjang minggu di Springfield dan Shelbyville. Kita bisa melihat perbedaan kecil dalam urutan pada hari Senin, tetapi:\n",
        "* Baik di Springfield maupun di Shelbyville, pengguna paling banyak mendengarkan musik pop.\n",
        "\n",
        "Oleh karena itu, hipotesis ini tidak dapat kita terima. Penting juga untuk mengingat bahwa hasil yang diperoleh bisa saja berbeda seandainya kita tidak memiliki nilai yang hilang.\n",
        "3. Ternyata, preferensi musik pengguna dari kota Springfield dan Shelbyville sangatlah mirip.\n",
        "\n",
        "Hipotesis ketiga ditolak. Jika memang terdapat perbedaan preferensi, sayangnya hal ini tidak dapat kita ketahui dari data ini.\n",
        "### Catatan\n",
        "Dalam proyek sesungguhnya, penelitian melibatkan pengujian hipotesis statistik, yang tentunya lebih tepat dan lebih bersifat kuantitatif. Perhatikan juga bahwa kamu tidak dapat selalu menarik kesimpulan tentang seluruh kota berdasarkan data dari satu sumber saja.\n",
        "\n",
        "Kamu akan mempelajari pengujian hipotesis dalam sprint analisis data statistik."
      ]
    },
    {
      "cell_type": "markdown",
      "metadata": {
        "id": "Ju4AHDSgV1FE"
      },
      "source": [
        "[Kembali ke Daftar Isi](#back)"
      ]
    }
  ],
  "metadata": {
    "colab": {
      "collapsed_sections": [
        "E0vqbgi9ay0H",
        "VUC88oWjTJw2",
        "atZAxtq4_Zcu"
      ],
      "name": "EmptyFinalProject.ipynb\"",
      "provenance": []
    },
    "kernelspec": {
      "display_name": "Python (Pyodide)",
      "language": "python",
      "name": "python"
    },
    "language_info": {
      "codemirror_mode": {
        "name": "python",
        "version": 3
      },
      "file_extension": ".py",
      "mimetype": "text/x-python",
      "name": "python",
      "nbconvert_exporter": "python",
      "pygments_lexer": "ipython3",
      "version": "3.8"
    },
    "toc": {
      "base_numbering": 1,
      "nav_menu": {},
      "number_sections": true,
      "sideBar": true,
      "skip_h1_title": true,
      "title_cell": "Table of Contents",
      "title_sidebar": "Contents",
      "toc_cell": false,
      "toc_position": {},
      "toc_section_display": true,
      "toc_window_display": false
    }
  },
  "nbformat": 4,
  "nbformat_minor": 4
}
